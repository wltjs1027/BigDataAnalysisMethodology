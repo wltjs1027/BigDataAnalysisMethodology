{
 "cells": [
  {
   "cell_type": "code",
   "execution_count": 4,
   "id": "7771748b",
   "metadata": {},
   "outputs": [],
   "source": [
    "# numpy 시간\n",
    "# for, while, np의 시간을 알려줌\n",
    "\n",
    "import time\n",
    "import numpy as np\n",
    "\n",
    "def calculate_sum_for_loop(n):\n",
    "    start_time = time.time()\n",
    "    total = 0\n",
    "    for i in range(1, n+1):\n",
    "        total += i\n",
    "    end_time = time.time()\n",
    "    return total, end_time-start_time\n",
    "    \n",
    "\n",
    "def calculate_sum_while_loop(n):\n",
    "    start_time = time.time()\n",
    "    total = 0\n",
    "    i = 1 \n",
    "    while i<=n :\n",
    "        total += i\n",
    "        i += 1\n",
    "    end_time = time.time()\n",
    "    return total, end_time-start_time\n",
    "    \n",
    "def calculate_sum_np_loop(n):\n",
    "    start_time = time.time()\n",
    "    numbers = np.arange(1, n+1) #1부터 n-1 전까지를 array로 만들어줌\n",
    "    total = np.sum(numbers) \n",
    "    end_time = time.time()\n",
    "    return total, end_time-start_time   "
   ]
  },
  {
   "cell_type": "code",
   "execution_count": 10,
   "id": "9b7e2db3",
   "metadata": {},
   "outputs": [
    {
     "name": "stdout",
     "output_type": "stream",
     "text": [
      "정수를 입력하세요: 100000\n",
      "\n",
      "for:  500000500000 0.052227020263671875\n",
      "while:  500000500000 0.029460906982421875\n",
      "np:  500000500000 0.020748138427734375\n"
     ]
    }
   ],
   "source": [
    "# 가능하면 loop를 피하는게 좋음 왜냐면 속도가 느려\n",
    "n = int(input(\"정수를 입력하세요: \"))\n",
    "print()\n",
    "\n",
    "result_for_loop, time_for_loop = calculate_sum_for_loop(1000000)\n",
    "print(\"for: \", result_for_loop, time_for_loop)\n",
    "\n",
    "result_for_loop, time_for_loop = calculate_sum_for_loop(1000000)\n",
    "print(\"while: \" ,result_for_loop, time_for_loop)\n",
    "\n",
    "result_for_loop, time_for_loop = calculate_sum_for_loop(1000000)\n",
    "print(\"np: \", result_for_loop, time_for_loop)"
   ]
  },
  {
   "cell_type": "code",
   "execution_count": 6,
   "id": "8ea536b3",
   "metadata": {},
   "outputs": [
    {
     "name": "stdout",
     "output_type": "stream",
     "text": [
      "[1, 2, 3, 4, 5, 6, 7, 8, 9, 10]\n"
     ]
    }
   ],
   "source": [
    "# list\n",
    "my_list = list(range(1,11))\n",
    "print(my_list)"
   ]
  },
  {
   "cell_type": "code",
   "execution_count": 8,
   "id": "2f5afe20",
   "metadata": {},
   "outputs": [
    {
     "data": {
      "text/plain": [
       "[1, 3, 5, 7, 9]"
      ]
     },
     "execution_count": 8,
     "metadata": {},
     "output_type": "execute_result"
    }
   ],
   "source": [
    "#list내에서 홀수만 가져오기\n",
    "odd_numbers = [x for x in my_list if x %2 !=0]\n",
    "print(odd_numbers)\n",
    "\n"
   ]
  },
  {
   "cell_type": "code",
   "execution_count": 11,
   "id": "7f78f19f",
   "metadata": {},
   "outputs": [
    {
     "ename": "TypeError",
     "evalue": "'>' not supported between instances of 'list' and 'int'",
     "output_type": "error",
     "traceback": [
      "\u001b[0;31m---------------------------------------------------------------------------\u001b[0m",
      "\u001b[0;31mTypeError\u001b[0m                                 Traceback (most recent call last)",
      "Cell \u001b[0;32mIn[11], line 2\u001b[0m\n\u001b[1;32m      1\u001b[0m \u001b[38;5;66;03m# 특정 조건만 가져오기\u001b[39;00m\n\u001b[0;32m----> 2\u001b[0m \u001b[38;5;28mprint\u001b[39m(my_list[my_list\u001b[38;5;241m>\u001b[39m\u001b[38;5;241m3\u001b[39m])\n",
      "\u001b[0;31mTypeError\u001b[0m: '>' not supported between instances of 'list' and 'int'"
     ]
    }
   ],
   "source": [
    "# 특정 조건만 가져오기\n",
    "print(my_list[my_list>3])\n",
    "# 그냥 리스트 object 내에서 조건 못함 np.array 써야함"
   ]
  },
  {
   "cell_type": "code",
   "execution_count": 17,
   "id": "7a216f41",
   "metadata": {},
   "outputs": [
    {
     "name": "stdout",
     "output_type": "stream",
     "text": [
      "[ 4  5  6  7  8  9 10]\n",
      "[5 6 7]\n"
     ]
    }
   ],
   "source": [
    "#특정 조건만 가져오기\n",
    "import numpy as np\n",
    "\n",
    "my_list = np.array([1,2,3,4,5,6,7,8,9,10]) #np로 만든 array의 경우 특정 조건을 줄 수 있음\n",
    "numbers_greater_than_3 = my_list[my_list>3]\n",
    "print(numbers_greater_than_3)\n",
    "\n",
    "aa = my_list[(my_list>=5)&(my_list<=7)]\n",
    "print(aa)"
   ]
  },
  {
   "cell_type": "code",
   "execution_count": 24,
   "id": "3b82d2db",
   "metadata": {},
   "outputs": [
    {
     "name": "stdout",
     "output_type": "stream",
     "text": [
      "[1, 4, 7, 10, 13]\n",
      "[1, 4, 7, 10, 13, 17]\n",
      "[1, 1.5, 4, 7, 10, 13, 17]\n",
      "[1, 1.5, 4, 7, 13, 17]\n",
      "[1, 1.5, 4, 7, 13] 17\n",
      "[1, 1.5, 4, 7, 13, 1, 2]\n",
      "[1, 1.5, 4, 7, 13, 1, 2]\n",
      "[1, 1, 1.5, 2, 4, 7, 13]\n",
      "1\n",
      "[13, 7, 4, 2, 1.5, 1, 1]\n"
     ]
    }
   ],
   "source": [
    "#list\n",
    "my_list = list(range(1,15,3))\n",
    "print(my_list)\n",
    "my_list.append(17)\n",
    "print(my_list)\n",
    "my_list.insert(1, 1.5)\n",
    "print(my_list)\n",
    "my_list.remove(10)\n",
    "print(my_list)\n",
    "bottom = my_list.pop() #맨 뒤에 있는거 뽑아냄\n",
    "print(my_list, bottom)\n",
    "list1 = list(range(1,3))\n",
    "my_list.extend(list1)\n",
    "print(my_list)\n",
    "list2 = my_list.copy()\n",
    "print(list2)\n",
    "list2.sort()\n",
    "print(list2)\n",
    "aa = list2.count(4)\n",
    "print(aa)\n",
    "list2.reverse()\n",
    "print(list2)"
   ]
  },
  {
   "cell_type": "code",
   "execution_count": 27,
   "id": "1f7e75d0",
   "metadata": {},
   "outputs": [
    {
     "name": "stdout",
     "output_type": "stream",
     "text": [
      "[1 2 3 4 5]\n",
      "[[1 2 3 4 5]\n",
      " [6 7 8 9 0]]\n"
     ]
    }
   ],
   "source": [
    "import numpy as np\n",
    "\n",
    "sample_array = np.array([1,2,3,4,5])\n",
    "print(sample_array)\n",
    "\n",
    "sample_array2 = np.array([[1,2,3,4,5],[6,7,8,9,0]])\n",
    "print(sample_array2)"
   ]
  },
  {
   "cell_type": "code",
   "execution_count": 29,
   "id": "7d69caed",
   "metadata": {},
   "outputs": [
    {
     "name": "stdout",
     "output_type": "stream",
     "text": [
      "(5,)\n",
      "1\n",
      "(2, 5)\n",
      "2\n"
     ]
    }
   ],
   "source": [
    "print(sample_array.shape)\n",
    "print(sample_array.ndim)\n",
    "\n",
    "print(sample_array2.shape)\n",
    "print(sample_array2.ndim)"
   ]
  },
  {
   "cell_type": "code",
   "execution_count": 30,
   "id": "c4aa40e5",
   "metadata": {},
   "outputs": [
    {
     "name": "stdout",
     "output_type": "stream",
     "text": [
      "[ 0  1  2  3  4  5  6  7  8  9 10 11 12 13 14 15 16 17 18 19]\n",
      "[[ 0  1  2  3  4]\n",
      " [ 5  6  7  8  9]\n",
      " [10 11 12 13 14]\n",
      " [15 16 17 18 19]]\n",
      "[[[ 0  1]\n",
      "  [ 2  3]\n",
      "  [ 4  5]\n",
      "  [ 6  7]\n",
      "  [ 8  9]]\n",
      "\n",
      " [[10 11]\n",
      "  [12 13]\n",
      "  [14 15]\n",
      "  [16 17]\n",
      "  [18 19]]]\n"
     ]
    }
   ],
   "source": [
    "a2 = np.arange(20)\n",
    "print(a2)\n",
    "#reshape를 사용해 for문 없이 array 만들 수 o\n",
    "print(a2.reshape(4,-1)) #20 = 4x5(-1)\n",
    "print(a2.reshape(2,5, -1))"
   ]
  },
  {
   "cell_type": "code",
   "execution_count": 34,
   "id": "f24e45dd",
   "metadata": {},
   "outputs": [
    {
     "name": "stdout",
     "output_type": "stream",
     "text": [
      "[0. 0. 0. 0. 0. 0. 0. 0. 0. 0.]\n",
      "[[0. 0. 0.]\n",
      " [0. 0. 0.]\n",
      " [0. 0. 0.]\n",
      " [0. 0. 0.]\n",
      " [0. 0. 0.]\n",
      " [0. 0. 0.]\n",
      " [0. 0. 0.]\n",
      " [0. 0. 0.]\n",
      " [0. 0. 0.]\n",
      " [0. 0. 0.]]\n",
      "[[1. 1. 1. 1. 1. 1. 1. 1. 1. 1.]\n",
      " [1. 1. 1. 1. 1. 1. 1. 1. 1. 1.]]\n",
      "[1.]\n"
     ]
    }
   ],
   "source": [
    "#np.zeros((x,y)), np.ones(x)\n",
    "print(np.zeros((10))) #10행 1열\n",
    "print(np.zeros((10,3))) #10행 3열\n",
    "print(np.ones((2, 10))) #2행 10열\n",
    "print(np.ones(1))"
   ]
  },
  {
   "cell_type": "code",
   "execution_count": 41,
   "id": "3c742a17",
   "metadata": {},
   "outputs": [
    {
     "name": "stdout",
     "output_type": "stream",
     "text": [
      "[[ 0  1  2  3  4]\n",
      " [ 5  6  7  8  9]\n",
      " [10 11 12 13 14]\n",
      " [15 16 17 18 19]]\n",
      "\n",
      "[[10 11 12 13 14]\n",
      " [15 16 17 18 19]]\n",
      "[7 8 9]\n"
     ]
    }
   ],
   "source": [
    "a2= a2.reshape(4,-1)\n",
    "print(a2)\n",
    "print()\n",
    "print(a2[2:4])\n",
    "print(a2[1, 2:])"
   ]
  },
  {
   "cell_type": "code",
   "execution_count": 45,
   "id": "b5d81b65",
   "metadata": {},
   "outputs": [
    {
     "name": "stdout",
     "output_type": "stream",
     "text": [
      "[1. 2. 3. 4. 5. 6.]\n",
      "[[1. 2. 3.]\n",
      " [4. 5. 6.]]\n"
     ]
    }
   ],
   "source": [
    "arr = np.array([1.0,2.0,3.0, 4.0, 5.0, 6])\n",
    "print(arr)\n",
    "arr = arr.reshape(2,-1)\n",
    "print(arr)"
   ]
  },
  {
   "cell_type": "code",
   "execution_count": 65,
   "id": "8b38b3db",
   "metadata": {},
   "outputs": [
    {
     "name": "stdout",
     "output_type": "stream",
     "text": [
      "float64\n",
      "[[1. 2. 3.]\n",
      " [4. 5. 6.]]\n",
      "[[ 1.  4.  9.]\n",
      " [16. 25. 36.]]\n",
      "[[0. 0. 0.]\n",
      " [0. 0. 0.]]\n",
      "[[1.         0.5        0.33333333]\n",
      " [0.25       0.2        0.16666667]]\n",
      "[[3. 4. 6.]\n",
      " [6. 7. 9.]]\n"
     ]
    }
   ],
   "source": [
    "#벡터화(vectorization)\n",
    "print(arr.dtype)\n",
    "print(arr)\n",
    "print(arr*arr) #곱하기\n",
    "print(arr-arr) #빼기\n",
    "print(1/arr) #나누기\n",
    "#브로캐스팅: 크기가 다른 배열 간 연산 가능, 단 차원의 길이가 같은 경우만 가능\n",
    "arr2 = np.array([[2,2,3]])\n",
    "print(arr+arr2)"
   ]
  },
  {
   "cell_type": "markdown",
   "id": "c358875f",
   "metadata": {},
   "source": [
    "# Series와 DataFrame"
   ]
  },
  {
   "cell_type": "code",
   "execution_count": 80,
   "id": "50cb0568",
   "metadata": {},
   "outputs": [
    {
     "name": "stdout",
     "output_type": "stream",
     "text": [
      "0     1\n",
      "1     2\n",
      "2     4\n",
      "3     8\n",
      "4    16\n",
      "5    32\n",
      "dtype: int64\n",
      "\n",
      "RangeIndex(start=0, stop=6, step=1)\n",
      "[ 1  2  4  8 16 32]\n",
      "(6,)\n"
     ]
    }
   ],
   "source": [
    "#pandas, numpy\n",
    "import pandas as pd\n",
    "import numpy as np\n",
    "\n",
    "# series\n",
    "mys = pd.Series([1,2,4,8,16,32])\n",
    "print(mys)\n",
    "print()\n",
    "\n",
    "\n",
    "print(mys.index)\n",
    "print(mys.values)\n",
    "print(mys.shape)"
   ]
  },
  {
   "cell_type": "code",
   "execution_count": 81,
   "id": "a8bddb9f",
   "metadata": {},
   "outputs": [
    {
     "name": "stdout",
     "output_type": "stream",
     "text": [
      "   0  1  2\n",
      "0  1  2  3\n",
      "1  4  5  6\n",
      "2  7  8  9\n"
     ]
    }
   ],
   "source": [
    "# df = pd.DataFrame(data, index=index, columns=columns)\n",
    "\n",
    "# dataframe 만들기 (List, Dictionary, Array로 만들 수 있음, 배열이나 리스트가 보편적)\n",
    "#리스트로 만들기 \n",
    "df = pd.DataFrame([[1,2,3], [4,5,6], [7,8,9]])\n",
    "print(df)"
   ]
  },
  {
   "cell_type": "code",
   "execution_count": 82,
   "id": "d575acc7",
   "metadata": {},
   "outputs": [
    {
     "data": {
      "text/html": [
       "<div>\n",
       "<style scoped>\n",
       "    .dataframe tbody tr th:only-of-type {\n",
       "        vertical-align: middle;\n",
       "    }\n",
       "\n",
       "    .dataframe tbody tr th {\n",
       "        vertical-align: top;\n",
       "    }\n",
       "\n",
       "    .dataframe thead th {\n",
       "        text-align: right;\n",
       "    }\n",
       "</style>\n",
       "<table border=\"1\" class=\"dataframe\">\n",
       "  <thead>\n",
       "    <tr style=\"text-align: right;\">\n",
       "      <th></th>\n",
       "      <th>age</th>\n",
       "      <th>height</th>\n",
       "      <th>weight</th>\n",
       "    </tr>\n",
       "  </thead>\n",
       "  <tbody>\n",
       "    <tr>\n",
       "      <th>A</th>\n",
       "      <td>20</td>\n",
       "      <td>180</td>\n",
       "      <td>50</td>\n",
       "    </tr>\n",
       "    <tr>\n",
       "      <th>B</th>\n",
       "      <td>40</td>\n",
       "      <td>173</td>\n",
       "      <td>60</td>\n",
       "    </tr>\n",
       "  </tbody>\n",
       "</table>\n",
       "</div>"
      ],
      "text/plain": [
       "   age  height  weight\n",
       "A   20     180      50\n",
       "B   40     173      60"
      ]
     },
     "execution_count": 82,
     "metadata": {},
     "output_type": "execute_result"
    }
   ],
   "source": [
    "#딕셔너리로 만들기\n",
    "data = {\"age\":[20, 40], \n",
    "       \"height\": [180, 173],\n",
    "       \"weight\": [50, 60]}\n",
    "index_name = [\"A\", \"B\"]\n",
    "df2 = pd.DataFrame(data, index=index_name)\n",
    "df2"
   ]
  },
  {
   "cell_type": "code",
   "execution_count": 83,
   "id": "a5e30d6e",
   "metadata": {},
   "outputs": [
    {
     "data": {
      "text/html": [
       "<div>\n",
       "<style scoped>\n",
       "    .dataframe tbody tr th:only-of-type {\n",
       "        vertical-align: middle;\n",
       "    }\n",
       "\n",
       "    .dataframe tbody tr th {\n",
       "        vertical-align: top;\n",
       "    }\n",
       "\n",
       "    .dataframe thead th {\n",
       "        text-align: right;\n",
       "    }\n",
       "</style>\n",
       "<table border=\"1\" class=\"dataframe\">\n",
       "  <thead>\n",
       "    <tr style=\"text-align: right;\">\n",
       "      <th></th>\n",
       "      <th>col1</th>\n",
       "      <th>col2</th>\n",
       "      <th>col3</th>\n",
       "    </tr>\n",
       "  </thead>\n",
       "  <tbody>\n",
       "    <tr>\n",
       "      <th>0</th>\n",
       "      <td>1</td>\n",
       "      <td>2</td>\n",
       "      <td>a</td>\n",
       "    </tr>\n",
       "    <tr>\n",
       "      <th>1</th>\n",
       "      <td>2</td>\n",
       "      <td>4</td>\n",
       "      <td>b</td>\n",
       "    </tr>\n",
       "    <tr>\n",
       "      <th>2</th>\n",
       "      <td>3</td>\n",
       "      <td>6</td>\n",
       "      <td>c</td>\n",
       "    </tr>\n",
       "    <tr>\n",
       "      <th>3</th>\n",
       "      <td>4</td>\n",
       "      <td>8</td>\n",
       "      <td>d</td>\n",
       "    </tr>\n",
       "    <tr>\n",
       "      <th>4</th>\n",
       "      <td>5</td>\n",
       "      <td>10</td>\n",
       "      <td>e</td>\n",
       "    </tr>\n",
       "  </tbody>\n",
       "</table>\n",
       "</div>"
      ],
      "text/plain": [
       "   col1  col2 col3\n",
       "0     1     2    a\n",
       "1     2     4    b\n",
       "2     3     6    c\n",
       "3     4     8    d\n",
       "4     5    10    e"
      ]
     },
     "execution_count": 83,
     "metadata": {},
     "output_type": "execute_result"
    }
   ],
   "source": [
    "#array로 만들기\n",
    "array1 = np.array([1,2,3,4,5])\n",
    "df3 = pd.DataFrame({\"col1\": array1, \"col2\": array1*2, \"col3\": [\"a\", \"b\", \"c\", \"d\", \"e\"]})\n",
    "df3"
   ]
  },
  {
   "cell_type": "code",
   "execution_count": 84,
   "id": "c8e1d3dd",
   "metadata": {},
   "outputs": [
    {
     "data": {
      "text/html": [
       "<div>\n",
       "<style scoped>\n",
       "    .dataframe tbody tr th:only-of-type {\n",
       "        vertical-align: middle;\n",
       "    }\n",
       "\n",
       "    .dataframe tbody tr th {\n",
       "        vertical-align: top;\n",
       "    }\n",
       "\n",
       "    .dataframe thead th {\n",
       "        text-align: right;\n",
       "    }\n",
       "</style>\n",
       "<table border=\"1\" class=\"dataframe\">\n",
       "  <thead>\n",
       "    <tr style=\"text-align: right;\">\n",
       "      <th></th>\n",
       "      <th>0</th>\n",
       "      <th>1</th>\n",
       "      <th>2</th>\n",
       "      <th>3</th>\n",
       "      <th>4</th>\n",
       "    </tr>\n",
       "  </thead>\n",
       "  <tbody>\n",
       "    <tr>\n",
       "      <th>0</th>\n",
       "      <td>6</td>\n",
       "      <td>5</td>\n",
       "      <td>1</td>\n",
       "      <td>5</td>\n",
       "      <td>7</td>\n",
       "    </tr>\n",
       "    <tr>\n",
       "      <th>1</th>\n",
       "      <td>7</td>\n",
       "      <td>5</td>\n",
       "      <td>9</td>\n",
       "      <td>5</td>\n",
       "      <td>3</td>\n",
       "    </tr>\n",
       "    <tr>\n",
       "      <th>2</th>\n",
       "      <td>9</td>\n",
       "      <td>8</td>\n",
       "      <td>3</td>\n",
       "      <td>9</td>\n",
       "      <td>9</td>\n",
       "    </tr>\n",
       "  </tbody>\n",
       "</table>\n",
       "</div>"
      ],
      "text/plain": [
       "   0  1  2  3  4\n",
       "0  6  5  1  5  7\n",
       "1  7  5  9  5  3\n",
       "2  9  8  3  9  9"
      ]
     },
     "execution_count": 84,
     "metadata": {},
     "output_type": "execute_result"
    }
   ],
   "source": [
    "np.random.seed(22)\n",
    "\n",
    "df = pd.DataFrame(np.random.randint(1,10, size=(3,5)))\n",
    "df\n",
    "\n",
    "#난수 생성 : \n",
    "#np.random.rand: 0부터 1사이 균일 분포\n",
    "#np.random.randn: 가우시안 표준 정규분포 \n",
    "#np.random.randint: 균일 분포의 정수 난수 (np.random.randint(low, high, size))"
   ]
  },
  {
   "cell_type": "code",
   "execution_count": 98,
   "id": "3568d34f",
   "metadata": {},
   "outputs": [
    {
     "name": "stdout",
     "output_type": "stream",
     "text": [
      "    A   B   C   D   E\n",
      "a  16  13  11  19  18\n",
      "b  14  14  13  15  17\n",
      "c  20  13  18  20  16\n",
      "d  18  21  16  13  21\n",
      "\n",
      "Index(['a', 'b', 'c', 'd'], dtype='object')\n",
      "Index(['A', 'B', 'C', 'D', 'E'], dtype='object')\n",
      "[[16 13 11 19 18]\n",
      " [14 14 13 15 17]\n",
      " [20 13 18 20 16]\n",
      " [18 21 16 13 21]]\n",
      "(4, 5)\n"
     ]
    }
   ],
   "source": [
    "np.random.seed(1886)\n",
    "df=pd.DataFrame(np.random.randint(10,22,(4,5)), index = [\"a\", \"b\", \"c\", \"d\"], columns=[\"A\", \"B\", \"C\", \"D\", \"E\"])\n",
    "print(df)\n",
    "print()\n",
    "print(df.index)\n",
    "print(df.columns)\n",
    "print(df.values)\n",
    "print(df.shape)"
   ]
  },
  {
   "cell_type": "code",
   "execution_count": 88,
   "id": "ffccb4f6",
   "metadata": {},
   "outputs": [
    {
     "name": "stdout",
     "output_type": "stream",
     "text": [
      "    A   B   C   D   E\n",
      "a  16  13  11  19  18\n",
      "b  14  14  13  15  17\n"
     ]
    }
   ],
   "source": [
    "print(df.head(2))"
   ]
  },
  {
   "cell_type": "code",
   "execution_count": 89,
   "id": "6daa93d5",
   "metadata": {},
   "outputs": [
    {
     "name": "stdout",
     "output_type": "stream",
     "text": [
      "<class 'pandas.core.frame.DataFrame'>\n",
      "Index: 4 entries, a to d\n",
      "Data columns (total 5 columns):\n",
      " #   Column  Non-Null Count  Dtype\n",
      "---  ------  --------------  -----\n",
      " 0   A       4 non-null      int64\n",
      " 1   B       4 non-null      int64\n",
      " 2   C       4 non-null      int64\n",
      " 3   D       4 non-null      int64\n",
      " 4   E       4 non-null      int64\n",
      "dtypes: int64(5)\n",
      "memory usage: 192.0+ bytes\n",
      "None\n"
     ]
    }
   ],
   "source": [
    "print(df.info())"
   ]
  },
  {
   "cell_type": "code",
   "execution_count": 91,
   "id": "b29ec957",
   "metadata": {},
   "outputs": [
    {
     "data": {
      "text/plain": [
       "(4, 5)"
      ]
     },
     "execution_count": 91,
     "metadata": {},
     "output_type": "execute_result"
    }
   ],
   "source": [
    "df.shape"
   ]
  },
  {
   "cell_type": "code",
   "execution_count": 93,
   "id": "91d749d2",
   "metadata": {},
   "outputs": [
    {
     "data": {
      "text/plain": [
       "a    16\n",
       "b    14\n",
       "c    20\n",
       "d    18\n",
       "Name: A, dtype: int64"
      ]
     },
     "execution_count": 93,
     "metadata": {},
     "output_type": "execute_result"
    }
   ],
   "source": [
    "df[\"A\"] #colum명이 A인 애"
   ]
  },
  {
   "cell_type": "code",
   "execution_count": 96,
   "id": "63926ff1",
   "metadata": {},
   "outputs": [
    {
     "data": {
      "text/html": [
       "<div>\n",
       "<style scoped>\n",
       "    .dataframe tbody tr th:only-of-type {\n",
       "        vertical-align: middle;\n",
       "    }\n",
       "\n",
       "    .dataframe tbody tr th {\n",
       "        vertical-align: top;\n",
       "    }\n",
       "\n",
       "    .dataframe thead th {\n",
       "        text-align: right;\n",
       "    }\n",
       "</style>\n",
       "<table border=\"1\" class=\"dataframe\">\n",
       "  <thead>\n",
       "    <tr style=\"text-align: right;\">\n",
       "      <th></th>\n",
       "      <th>A</th>\n",
       "      <th>C</th>\n",
       "    </tr>\n",
       "  </thead>\n",
       "  <tbody>\n",
       "    <tr>\n",
       "      <th>a</th>\n",
       "      <td>16</td>\n",
       "      <td>11</td>\n",
       "    </tr>\n",
       "    <tr>\n",
       "      <th>b</th>\n",
       "      <td>14</td>\n",
       "      <td>13</td>\n",
       "    </tr>\n",
       "    <tr>\n",
       "      <th>c</th>\n",
       "      <td>20</td>\n",
       "      <td>18</td>\n",
       "    </tr>\n",
       "    <tr>\n",
       "      <th>d</th>\n",
       "      <td>18</td>\n",
       "      <td>16</td>\n",
       "    </tr>\n",
       "  </tbody>\n",
       "</table>\n",
       "</div>"
      ],
      "text/plain": [
       "    A   C\n",
       "a  16  11\n",
       "b  14  13\n",
       "c  20  18\n",
       "d  18  16"
      ]
     },
     "execution_count": 96,
     "metadata": {},
     "output_type": "execute_result"
    }
   ],
   "source": [
    "df[[\"A\", \"C\"]]"
   ]
  },
  {
   "cell_type": "code",
   "execution_count": 109,
   "id": "47de47bb",
   "metadata": {},
   "outputs": [
    {
     "data": {
      "text/html": [
       "<div>\n",
       "<style scoped>\n",
       "    .dataframe tbody tr th:only-of-type {\n",
       "        vertical-align: middle;\n",
       "    }\n",
       "\n",
       "    .dataframe tbody tr th {\n",
       "        vertical-align: top;\n",
       "    }\n",
       "\n",
       "    .dataframe thead th {\n",
       "        text-align: right;\n",
       "    }\n",
       "</style>\n",
       "<table border=\"1\" class=\"dataframe\">\n",
       "  <thead>\n",
       "    <tr style=\"text-align: right;\">\n",
       "      <th></th>\n",
       "      <th>A</th>\n",
       "      <th>B</th>\n",
       "      <th>C</th>\n",
       "      <th>D</th>\n",
       "      <th>E</th>\n",
       "    </tr>\n",
       "  </thead>\n",
       "  <tbody>\n",
       "    <tr>\n",
       "      <th>c</th>\n",
       "      <td>20</td>\n",
       "      <td>13</td>\n",
       "      <td>18</td>\n",
       "      <td>20</td>\n",
       "      <td>16</td>\n",
       "    </tr>\n",
       "    <tr>\n",
       "      <th>d</th>\n",
       "      <td>18</td>\n",
       "      <td>21</td>\n",
       "      <td>16</td>\n",
       "      <td>13</td>\n",
       "      <td>21</td>\n",
       "    </tr>\n",
       "  </tbody>\n",
       "</table>\n",
       "</div>"
      ],
      "text/plain": [
       "    A   B   C   D   E\n",
       "c  20  13  18  20  16\n",
       "d  18  21  16  13  21"
      ]
     },
     "execution_count": 109,
     "metadata": {},
     "output_type": "execute_result"
    }
   ],
   "source": [
    "df[df[\"A\"]>16] #조건문으로 데이터 추출"
   ]
  },
  {
   "cell_type": "code",
   "execution_count": 112,
   "id": "c917d74a",
   "metadata": {},
   "outputs": [
    {
     "data": {
      "text/html": [
       "<div>\n",
       "<style scoped>\n",
       "    .dataframe tbody tr th:only-of-type {\n",
       "        vertical-align: middle;\n",
       "    }\n",
       "\n",
       "    .dataframe tbody tr th {\n",
       "        vertical-align: top;\n",
       "    }\n",
       "\n",
       "    .dataframe thead th {\n",
       "        text-align: right;\n",
       "    }\n",
       "</style>\n",
       "<table border=\"1\" class=\"dataframe\">\n",
       "  <thead>\n",
       "    <tr style=\"text-align: right;\">\n",
       "      <th></th>\n",
       "      <th>A</th>\n",
       "      <th>B</th>\n",
       "      <th>C</th>\n",
       "      <th>D</th>\n",
       "      <th>E</th>\n",
       "    </tr>\n",
       "  </thead>\n",
       "  <tbody>\n",
       "    <tr>\n",
       "      <th>a</th>\n",
       "      <td>16</td>\n",
       "      <td>13</td>\n",
       "      <td>11</td>\n",
       "      <td>19</td>\n",
       "      <td>18</td>\n",
       "    </tr>\n",
       "  </tbody>\n",
       "</table>\n",
       "</div>"
      ],
      "text/plain": [
       "    A   B   C   D   E\n",
       "a  16  13  11  19  18"
      ]
     },
     "execution_count": 112,
     "metadata": {},
     "output_type": "execute_result"
    }
   ],
   "source": [
    "df.query('index==\"a\"') #index로 특정 행 추출"
   ]
  },
  {
   "cell_type": "code",
   "execution_count": 113,
   "id": "ce5781f7",
   "metadata": {},
   "outputs": [
    {
     "data": {
      "text/html": [
       "<div>\n",
       "<style scoped>\n",
       "    .dataframe tbody tr th:only-of-type {\n",
       "        vertical-align: middle;\n",
       "    }\n",
       "\n",
       "    .dataframe tbody tr th {\n",
       "        vertical-align: top;\n",
       "    }\n",
       "\n",
       "    .dataframe thead th {\n",
       "        text-align: right;\n",
       "    }\n",
       "</style>\n",
       "<table border=\"1\" class=\"dataframe\">\n",
       "  <thead>\n",
       "    <tr style=\"text-align: right;\">\n",
       "      <th></th>\n",
       "      <th>B</th>\n",
       "      <th>C</th>\n",
       "      <th>D</th>\n",
       "      <th>E</th>\n",
       "    </tr>\n",
       "  </thead>\n",
       "  <tbody>\n",
       "    <tr>\n",
       "      <th>a</th>\n",
       "      <td>13</td>\n",
       "      <td>11</td>\n",
       "      <td>19</td>\n",
       "      <td>18</td>\n",
       "    </tr>\n",
       "    <tr>\n",
       "      <th>b</th>\n",
       "      <td>14</td>\n",
       "      <td>13</td>\n",
       "      <td>15</td>\n",
       "      <td>17</td>\n",
       "    </tr>\n",
       "    <tr>\n",
       "      <th>c</th>\n",
       "      <td>13</td>\n",
       "      <td>18</td>\n",
       "      <td>20</td>\n",
       "      <td>16</td>\n",
       "    </tr>\n",
       "    <tr>\n",
       "      <th>d</th>\n",
       "      <td>21</td>\n",
       "      <td>16</td>\n",
       "      <td>13</td>\n",
       "      <td>21</td>\n",
       "    </tr>\n",
       "  </tbody>\n",
       "</table>\n",
       "</div>"
      ],
      "text/plain": [
       "    B   C   D   E\n",
       "a  13  11  19  18\n",
       "b  14  13  15  17\n",
       "c  13  18  20  16\n",
       "d  21  16  13  21"
      ]
     },
     "execution_count": 113,
     "metadata": {},
     "output_type": "execute_result"
    }
   ],
   "source": [
    "df.drop(\"A\", axis =1) #지정한 열 빼고 데이터 추출"
   ]
  },
  {
   "cell_type": "code",
   "execution_count": 114,
   "id": "d6aefa50",
   "metadata": {},
   "outputs": [
    {
     "data": {
      "text/plain": [
       "A    16\n",
       "B    13\n",
       "C    11\n",
       "D    19\n",
       "E    18\n",
       "Name: a, dtype: int64"
      ]
     },
     "execution_count": 114,
     "metadata": {},
     "output_type": "execute_result"
    }
   ],
   "source": [
    "df.loc[\"a\"] #특정 이름을 가진 행 추출"
   ]
  },
  {
   "cell_type": "code",
   "execution_count": 115,
   "id": "a0fd0a28",
   "metadata": {},
   "outputs": [
    {
     "data": {
      "text/html": [
       "<div>\n",
       "<style scoped>\n",
       "    .dataframe tbody tr th:only-of-type {\n",
       "        vertical-align: middle;\n",
       "    }\n",
       "\n",
       "    .dataframe tbody tr th {\n",
       "        vertical-align: top;\n",
       "    }\n",
       "\n",
       "    .dataframe thead th {\n",
       "        text-align: right;\n",
       "    }\n",
       "</style>\n",
       "<table border=\"1\" class=\"dataframe\">\n",
       "  <thead>\n",
       "    <tr style=\"text-align: right;\">\n",
       "      <th></th>\n",
       "      <th>A</th>\n",
       "      <th>B</th>\n",
       "      <th>C</th>\n",
       "      <th>D</th>\n",
       "      <th>E</th>\n",
       "    </tr>\n",
       "  </thead>\n",
       "  <tbody>\n",
       "    <tr>\n",
       "      <th>b</th>\n",
       "      <td>14</td>\n",
       "      <td>14</td>\n",
       "      <td>13</td>\n",
       "      <td>15</td>\n",
       "      <td>17</td>\n",
       "    </tr>\n",
       "    <tr>\n",
       "      <th>c</th>\n",
       "      <td>20</td>\n",
       "      <td>13</td>\n",
       "      <td>18</td>\n",
       "      <td>20</td>\n",
       "      <td>16</td>\n",
       "    </tr>\n",
       "  </tbody>\n",
       "</table>\n",
       "</div>"
      ],
      "text/plain": [
       "    A   B   C   D   E\n",
       "b  14  14  13  15  17\n",
       "c  20  13  18  20  16"
      ]
     },
     "execution_count": 115,
     "metadata": {},
     "output_type": "execute_result"
    }
   ],
   "source": [
    "df[\"b\":\"c\"]"
   ]
  },
  {
   "cell_type": "code",
   "execution_count": 116,
   "id": "9ae06e27",
   "metadata": {},
   "outputs": [
    {
     "data": {
      "text/plain": [
       "A    16\n",
       "B    13\n",
       "C    11\n",
       "D    19\n",
       "E    18\n",
       "Name: a, dtype: int64"
      ]
     },
     "execution_count": 116,
     "metadata": {},
     "output_type": "execute_result"
    }
   ],
   "source": [
    "df.loc[\"a\", :\"d\"]"
   ]
  },
  {
   "cell_type": "code",
   "execution_count": 117,
   "id": "0afdb8fb",
   "metadata": {},
   "outputs": [
    {
     "data": {
      "text/html": [
       "<div>\n",
       "<style scoped>\n",
       "    .dataframe tbody tr th:only-of-type {\n",
       "        vertical-align: middle;\n",
       "    }\n",
       "\n",
       "    .dataframe tbody tr th {\n",
       "        vertical-align: top;\n",
       "    }\n",
       "\n",
       "    .dataframe thead th {\n",
       "        text-align: right;\n",
       "    }\n",
       "</style>\n",
       "<table border=\"1\" class=\"dataframe\">\n",
       "  <thead>\n",
       "    <tr style=\"text-align: right;\">\n",
       "      <th></th>\n",
       "      <th>A</th>\n",
       "      <th>B</th>\n",
       "      <th>C</th>\n",
       "      <th>D</th>\n",
       "      <th>E</th>\n",
       "    </tr>\n",
       "  </thead>\n",
       "  <tbody>\n",
       "    <tr>\n",
       "      <th>a</th>\n",
       "      <td>16</td>\n",
       "      <td>13</td>\n",
       "      <td>11</td>\n",
       "      <td>19</td>\n",
       "      <td>18</td>\n",
       "    </tr>\n",
       "    <tr>\n",
       "      <th>c</th>\n",
       "      <td>20</td>\n",
       "      <td>13</td>\n",
       "      <td>18</td>\n",
       "      <td>20</td>\n",
       "      <td>16</td>\n",
       "    </tr>\n",
       "    <tr>\n",
       "      <th>d</th>\n",
       "      <td>18</td>\n",
       "      <td>21</td>\n",
       "      <td>16</td>\n",
       "      <td>13</td>\n",
       "      <td>21</td>\n",
       "    </tr>\n",
       "  </tbody>\n",
       "</table>\n",
       "</div>"
      ],
      "text/plain": [
       "    A   B   C   D   E\n",
       "a  16  13  11  19  18\n",
       "c  20  13  18  20  16\n",
       "d  18  21  16  13  21"
      ]
     },
     "execution_count": 117,
     "metadata": {},
     "output_type": "execute_result"
    }
   ],
   "source": [
    "df.loc[df.A>15]"
   ]
  },
  {
   "cell_type": "code",
   "execution_count": 123,
   "id": "ded49b59",
   "metadata": {},
   "outputs": [
    {
     "data": {
      "text/plain": [
       "13"
      ]
     },
     "execution_count": 123,
     "metadata": {},
     "output_type": "execute_result"
    }
   ],
   "source": [
    "df.loc[\"a\",\"B\"]"
   ]
  },
  {
   "cell_type": "code",
   "execution_count": 124,
   "id": "d0615de6",
   "metadata": {},
   "outputs": [
    {
     "data": {
      "text/html": [
       "<div>\n",
       "<style scoped>\n",
       "    .dataframe tbody tr th:only-of-type {\n",
       "        vertical-align: middle;\n",
       "    }\n",
       "\n",
       "    .dataframe tbody tr th {\n",
       "        vertical-align: top;\n",
       "    }\n",
       "\n",
       "    .dataframe thead th {\n",
       "        text-align: right;\n",
       "    }\n",
       "</style>\n",
       "<table border=\"1\" class=\"dataframe\">\n",
       "  <thead>\n",
       "    <tr style=\"text-align: right;\">\n",
       "      <th></th>\n",
       "      <th>C</th>\n",
       "      <th>D</th>\n",
       "      <th>E</th>\n",
       "    </tr>\n",
       "  </thead>\n",
       "  <tbody>\n",
       "    <tr>\n",
       "      <th>a</th>\n",
       "      <td>11</td>\n",
       "      <td>19</td>\n",
       "      <td>18</td>\n",
       "    </tr>\n",
       "    <tr>\n",
       "      <th>b</th>\n",
       "      <td>13</td>\n",
       "      <td>15</td>\n",
       "      <td>17</td>\n",
       "    </tr>\n",
       "  </tbody>\n",
       "</table>\n",
       "</div>"
      ],
      "text/plain": [
       "    C   D   E\n",
       "a  11  19  18\n",
       "b  13  15  17"
      ]
     },
     "execution_count": 124,
     "metadata": {},
     "output_type": "execute_result"
    }
   ],
   "source": [
    "df.loc[[\"a\",\"b\"], \"C\":\"E\"]"
   ]
  },
  {
   "cell_type": "code",
   "execution_count": 125,
   "id": "2c3bdf77",
   "metadata": {},
   "outputs": [
    {
     "data": {
      "text/plain": [
       "A    20\n",
       "B    13\n",
       "C    18\n",
       "D    20\n",
       "E    16\n",
       "Name: c, dtype: int64"
      ]
     },
     "execution_count": 125,
     "metadata": {},
     "output_type": "execute_result"
    }
   ],
   "source": [
    "df.iloc[2]"
   ]
  },
  {
   "cell_type": "code",
   "execution_count": 126,
   "id": "06c36304",
   "metadata": {},
   "outputs": [
    {
     "data": {
      "text/plain": [
       "a    11\n",
       "b    13\n",
       "Name: C, dtype: int64"
      ]
     },
     "execution_count": 126,
     "metadata": {},
     "output_type": "execute_result"
    }
   ],
   "source": [
    "df.iloc[:2, 2]"
   ]
  },
  {
   "cell_type": "code",
   "execution_count": 130,
   "id": "7304583a",
   "metadata": {},
   "outputs": [
    {
     "name": "stdout",
     "output_type": "stream",
     "text": [
      "A    4\n",
      "B    4\n",
      "C    4\n",
      "D    4\n",
      "E    4\n",
      "dtype: int64\n",
      "a    5\n",
      "b    5\n",
      "c    5\n",
      "d    5\n",
      "dtype: int64\n",
      "A    int64\n",
      "B    int64\n",
      "C    int64\n",
      "D    int64\n",
      "E    int64\n",
      "dtype: object\n",
      "<bound method NDFrame.describe of     A   B   C   D   E\n",
      "a  16  13  11  19  18\n",
      "b  14  14  13  15  17\n",
      "c  20  13  18  20  16\n",
      "d  18  21  16  13  21>\n"
     ]
    }
   ],
   "source": [
    "print(df.count(axis=0)) #axis=0은 컬럼기준\n",
    "print(df.count(axis=1)) #axis=1은 로우기준\n",
    "print(df.dtypes) #dtypes: 데이터 형태\n",
    "print(df.describe) #요약통계량"
   ]
  },
  {
   "cell_type": "markdown",
   "id": "a2981222",
   "metadata": {},
   "source": [
    "# File"
   ]
  },
  {
   "cell_type": "markdown",
   "id": "48eb74aa",
   "metadata": {},
   "source": [
    "%%는 셀매직 명령어, %는 line매직 명령어\n",
    "CSV: Comma Seperate Value, \",\"로 구분된 파일"
   ]
  },
  {
   "cell_type": "code",
   "execution_count": 137,
   "id": "4b8ee45c",
   "metadata": {},
   "outputs": [
    {
     "name": "stdout",
     "output_type": "stream",
     "text": [
      "Overwriting sample1.csv\n"
     ]
    }
   ],
   "source": [
    "%%writefile sample1.csv \n",
    "c1, c2, c3\n",
    "1, 1.11, one\n",
    "2, 2.22, two\n",
    "3, 3.33, three"
   ]
  },
  {
   "cell_type": "code",
   "execution_count": 147,
   "id": "daaf519d",
   "metadata": {},
   "outputs": [
    {
     "name": "stdout",
     "output_type": "stream",
     "text": [
      "   c1    c2      c3\n",
      "0   1  1.11     one\n",
      "1   2  2.22     two\n",
      "2   3  3.33   three\n",
      "\n",
      "   c1    c2    c3\n",
      "0   1  1.11   one\n",
      "\n",
      "(3, 3)\n"
     ]
    }
   ],
   "source": [
    "%pwd\n",
    "#pd.read_csv(\"파일명\")\n",
    "data = pd.read_csv(\"./sample1.csv\")\n",
    "print(data)\n",
    "print()\n",
    "\n",
    "print(data.head(1))\n",
    "print()\n",
    "\n",
    "print(data.shape)"
   ]
  },
  {
   "cell_type": "code",
   "execution_count": null,
   "id": "8d1abe4a",
   "metadata": {},
   "outputs": [],
   "source": []
  }
 ],
 "metadata": {
  "kernelspec": {
   "display_name": "Python 3 (ipykernel)",
   "language": "python",
   "name": "python3"
  },
  "language_info": {
   "codemirror_mode": {
    "name": "ipython",
    "version": 3
   },
   "file_extension": ".py",
   "mimetype": "text/x-python",
   "name": "python",
   "nbconvert_exporter": "python",
   "pygments_lexer": "ipython3",
   "version": "3.11.5"
  }
 },
 "nbformat": 4,
 "nbformat_minor": 5
}
